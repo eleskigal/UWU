{
 "cells": [
  {
   "cell_type": "code",
   "execution_count": 11,
   "metadata": {},
   "outputs": [],
   "source": [
    "import pywhatkit\n",
    "import pandas as pd \n",
    "import numpy as np\n",
    "import openpyxl\n",
    "from openpyxl import load_workbook\n",
    "from openpyxl.chart import BarChart, Reference\n",
    "import pyautogui as pg\n",
    "import webbrowser as web\n",
    "import time\n"
   ]
  },
  {
   "cell_type": "code",
   "execution_count": 12,
   "metadata": {},
   "outputs": [
    {
     "ename": "TypeError",
     "evalue": "can only concatenate str (not \"float\") to str",
     "output_type": "error",
     "traceback": [
      "\u001b[1;31m---------------------------------------------------------------------------\u001b[0m",
      "\u001b[1;31mTypeError\u001b[0m                                 Traceback (most recent call last)",
      "Cell \u001b[1;32mIn [12], line 9\u001b[0m\n\u001b[0;32m      7\u001b[0m \u001b[39mfor\u001b[39;00m Telefono, Mensaje \u001b[39min\u001b[39;00m Enviar:\n\u001b[0;32m      8\u001b[0m     time\u001b[39m.\u001b[39msleep(\u001b[39m8\u001b[39m)\n\u001b[1;32m----> 9\u001b[0m     web\u001b[39m.\u001b[39mopen(\u001b[39m\"\u001b[39;49m\u001b[39mhttps://web.whatsapp.com/send?phone=\u001b[39;49m\u001b[39m\"\u001b[39;49m\u001b[39m+\u001b[39;49mTelefono\u001b[39m+\u001b[39m\u001b[39m\"\u001b[39m\u001b[39m&text=\u001b[39m\u001b[39m\"\u001b[39m\u001b[39m+\u001b[39mMensaje)\n\u001b[0;32m     10\u001b[0m     \u001b[39mif\u001b[39;00m primero:\n\u001b[0;32m     11\u001b[0m         time\u001b[39m.\u001b[39msleep(\u001b[39m8\u001b[39m)\n",
      "\u001b[1;31mTypeError\u001b[0m: can only concatenate str (not \"float\") to str"
     ]
    }
   ],
   "source": [
    "Bd=pd.read_excel(\"D:\\Julián\\Prueba.xlsx\") \n",
    "Bd_dict=Bd.to_dict(\"list\")\n",
    "Celulares=Bd['Telefono']\n",
    "Mensajes=Bd['Mensaje']\n",
    "Enviar=zip(Celulares,Mensajes)\n",
    "primero = True\n",
    "for Telefono, Mensaje in Enviar:\n",
    "    time.sleep(8)\n",
    "    web.open(\"https://web.whatsapp.com/send?phone=\"+Telefono+\"&text=\"+Mensaje)\n",
    "    if primero:\n",
    "        time.sleep(8)\n",
    "        primero = False\n",
    "    width,height=pg.size()\n",
    "    pg.click(width/2,height/2)\n",
    "    time.sleep(10)\n",
    "    pg.press(\"enter\")\n",
    "    time.sleep(6)\n",
    "    pg.hotkey(\"ctrl\", \"w\")\n"
   ]
  }
 ],
 "metadata": {
  "kernelspec": {
   "display_name": "Python 3.11.0 64-bit",
   "language": "python",
   "name": "python3"
  },
  "language_info": {
   "codemirror_mode": {
    "name": "ipython",
    "version": 3
   },
   "file_extension": ".py",
   "mimetype": "text/x-python",
   "name": "python",
   "nbconvert_exporter": "python",
   "pygments_lexer": "ipython3",
   "version": "3.11.0"
  },
  "orig_nbformat": 4,
  "vscode": {
   "interpreter": {
    "hash": "9c2cd80e9cebfcb6e5fd88eaf0bf67f79f08407448204c41008c5570fd57d259"
   }
  }
 },
 "nbformat": 4,
 "nbformat_minor": 2
}
